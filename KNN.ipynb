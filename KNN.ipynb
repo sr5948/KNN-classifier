{
  "nbformat": 4,
  "nbformat_minor": 0,
  "metadata": {
    "colab": {
      "provenance": []
    },
    "kernelspec": {
      "name": "python3",
      "display_name": "Python 3"
    },
    "language_info": {
      "name": "python"
    }
  },
  "cells": [
    {
      "cell_type": "code",
      "execution_count": 1,
      "metadata": {
        "id": "3zGEiogiwy9u"
      },
      "outputs": [],
      "source": [
        "import pandas as pd\n",
        "import numpy as np\n",
        "import matplotlib.pyplot as plt"
      ]
    },
    {
      "cell_type": "code",
      "source": [
        "diabetes = pd.read_csv('diabetes.csv')"
      ],
      "metadata": {
        "id": "1tIJATU5w5q8"
      },
      "execution_count": 2,
      "outputs": []
    },
    {
      "cell_type": "code",
      "source": [
        "from sklearn.model_selection import train_test_split\n",
        "X_train, X_test, y_train, y_test = train_test_split(diabetes.drop('Outcome',axis=1), \n",
        "                                                    diabetes['Outcome'], test_size=0.30, \n",
        "                                                    random_state=101)"
      ],
      "metadata": {
        "id": "qqCr9aN2xEnu"
      },
      "execution_count": 3,
      "outputs": []
    },
    {
      "cell_type": "code",
      "source": [
        "from sklearn.neighbors import KNeighborsClassifier"
      ],
      "metadata": {
        "id": "IYRlMCNqxH7x"
      },
      "execution_count": 4,
      "outputs": []
    },
    {
      "cell_type": "code",
      "source": [
        "knn = KNeighborsClassifier(n_neighbors=5)"
      ],
      "metadata": {
        "id": "lFUhgoU5xLgb"
      },
      "execution_count": 5,
      "outputs": []
    },
    {
      "cell_type": "code",
      "source": [
        "knn.fit(X_train,y_train)"
      ],
      "metadata": {
        "colab": {
          "base_uri": "https://localhost:8080/"
        },
        "id": "XFAPq4DkxPDl",
        "outputId": "5f857443-4d93-4b17-932a-83259a9e4e70"
      },
      "execution_count": 6,
      "outputs": [
        {
          "output_type": "execute_result",
          "data": {
            "text/plain": [
              "KNeighborsClassifier()"
            ]
          },
          "metadata": {},
          "execution_count": 6
        }
      ]
    },
    {
      "cell_type": "code",
      "source": [
        "pred = knn.predict(X_test)"
      ],
      "metadata": {
        "id": "HmW003NExTVO"
      },
      "execution_count": 7,
      "outputs": []
    },
    {
      "cell_type": "code",
      "source": [
        "from sklearn.metrics import accuracy_score, confusion_matrix"
      ],
      "metadata": {
        "id": "35QAMcKPxW2L"
      },
      "execution_count": 8,
      "outputs": []
    },
    {
      "cell_type": "code",
      "source": [
        "print(confusion_matrix(y_test,pred))"
      ],
      "metadata": {
        "colab": {
          "base_uri": "https://localhost:8080/"
        },
        "id": "PEonP2uXxaU3",
        "outputId": "4c750fe8-9316-4ca2-cc5e-4b4619d85237"
      },
      "execution_count": 9,
      "outputs": [
        {
          "output_type": "stream",
          "name": "stdout",
          "text": [
            "[[128  29]\n",
            " [ 35  42]]\n"
          ]
        }
      ]
    },
    {
      "cell_type": "code",
      "source": [
        "from sklearn.metrics import accuracy_score"
      ],
      "metadata": {
        "id": "P0rMfCCzxh1D"
      },
      "execution_count": 10,
      "outputs": []
    },
    {
      "cell_type": "code",
      "source": [
        "from sklearn.metrics import accuracy_score\n",
        "score=accuracy_score(y_test,pred)\n",
        "print(f'Accuracy: {round(score*100,2)}%')"
      ],
      "metadata": {
        "colab": {
          "base_uri": "https://localhost:8080/"
        },
        "id": "1x1h7SrWxlpd",
        "outputId": "b49ca645-0370-45ca-cf92-9a442a66c25e"
      },
      "execution_count": 11,
      "outputs": [
        {
          "output_type": "stream",
          "name": "stdout",
          "text": [
            "Accuracy: 72.65%\n"
          ]
        }
      ]
    },
    {
      "cell_type": "code",
      "source": [
        "accuracy = []\n",
        "k=[]\n",
        "# Will take some time\n",
        "for i in range(1,40):\n",
        "    k.append(i)\n",
        "    knn = KNeighborsClassifier(n_neighbors=i)\n",
        "    knn.fit(X_train,y_train)\n",
        "    pred_i = knn.predict(X_test)\n",
        "    score=accuracy_score(y_test,pred_i)\n",
        "    #print(f'Accuracy: {round(score*100,2)}%')\n",
        "    print(score)\n",
        "    accuracy.append(score)\n",
        "#print(accuracy)"
      ],
      "metadata": {
        "colab": {
          "base_uri": "https://localhost:8080/"
        },
        "id": "xDoQpFLgxp8e",
        "outputId": "23376d16-35c5-489b-a9a6-fb03be1afb28"
      },
      "execution_count": 12,
      "outputs": [
        {
          "output_type": "stream",
          "name": "stdout",
          "text": [
            "0.6623931623931624\n",
            "0.7350427350427351\n",
            "0.7008547008547008\n",
            "0.7222222222222222\n",
            "0.7264957264957265\n",
            "0.7307692307692307\n",
            "0.717948717948718\n",
            "0.7521367521367521\n",
            "0.7564102564102564\n",
            "0.7692307692307693\n",
            "0.7521367521367521\n",
            "0.7478632478632479\n",
            "0.7478632478632479\n",
            "0.7435897435897436\n",
            "0.7521367521367521\n",
            "0.7564102564102564\n",
            "0.7521367521367521\n",
            "0.7435897435897436\n",
            "0.7478632478632479\n",
            "0.7435897435897436\n",
            "0.7435897435897436\n",
            "0.7521367521367521\n",
            "0.7393162393162394\n",
            "0.7435897435897436\n",
            "0.7307692307692307\n",
            "0.7393162393162394\n",
            "0.7435897435897436\n",
            "0.7478632478632479\n",
            "0.7435897435897436\n",
            "0.7478632478632479\n",
            "0.7478632478632479\n",
            "0.7478632478632479\n",
            "0.7478632478632479\n",
            "0.7393162393162394\n",
            "0.7435897435897436\n",
            "0.7393162393162394\n",
            "0.7435897435897436\n",
            "0.7521367521367521\n",
            "0.7606837606837606\n"
          ]
        }
      ]
    },
    {
      "cell_type": "code",
      "source": [
        "import matplotlib.pyplot as plt\n",
        "import numpy as np\n",
        "plt.plot(k,accuracy)\n",
        "plt.title('Accuracy vs. K Value')\n",
        "plt.xlabel('K Value')\n",
        "plt.ylabel('Accuracy %')"
      ],
      "metadata": {
        "colab": {
          "base_uri": "https://localhost:8080/",
          "height": 312
        },
        "id": "T-N0zwL1xvdm",
        "outputId": "08673d86-9891-4662-9fd4-5efc52c2d817"
      },
      "execution_count": 13,
      "outputs": [
        {
          "output_type": "execute_result",
          "data": {
            "text/plain": [
              "Text(0, 0.5, 'Accuracy %')"
            ]
          },
          "metadata": {},
          "execution_count": 13
        },
        {
          "output_type": "display_data",
          "data": {
            "text/plain": [
              "<Figure size 432x288 with 1 Axes>"
            ],
            "image/png": "[encoded data removed]"
          },
          "metadata": {
            "needs_background": "light"
          }
        }
      ]
    },
    {
      "cell_type": "code",
      "source": [
        "knn = KNeighborsClassifier(n_neighbors=5)\n",
        "\n",
        "knn.fit(X_train,y_train)\n",
        "pred = knn.predict(X_test)\n",
        "\n",
        "print('WITH K=5')\n",
        "print('\\n')\n",
        "print(confusion_matrix(y_test,pred))\n",
        "print('\\n')\n",
        "#print(classification_report(y_test,pred))\n",
        "\n",
        "from sklearn.metrics import accuracy_score\n",
        "score=accuracy_score(y_test,pred)\n",
        "print(f'Accuracy: {round(score*100,2)}%')"
      ],
      "metadata": {
        "colab": {
          "base_uri": "https://localhost:8080/"
        },
        "id": "pY6HlJyax1mK",
        "outputId": "be62dcc7-ef5d-40c3-fdc0-20d3d6268d49"
      },
      "execution_count": 14,
      "outputs": [
        {
          "output_type": "stream",
          "name": "stdout",
          "text": [
            "WITH K=5\n",
            "\n",
            "\n",
            "[[128  29]\n",
            " [ 35  42]]\n",
            "\n",
            "\n",
            "Accuracy: 72.65%\n"
          ]
        }
      ]
    },
    {
      "cell_type": "code",
      "source": [
        "print('WITH K=6')\n",
        "print('\\n')\n",
        "print(confusion_matrix(y_test,pred))\n",
        "print('\\n')\n",
        "#print(classification_report(y_test,pred))\n",
        "\n",
        "from sklearn.metrics import accuracy_score\n",
        "score=accuracy_score(y_test,pred)\n",
        "print(f'Accuracy: {round(score*100,2)}%')"
      ],
      "metadata": {
        "colab": {
          "base_uri": "https://localhost:8080/"
        },
        "id": "-KMMvh8ex6ej",
        "outputId": "bc9541a2-9ab8-48c1-96ad-2efbaadf6637"
      },
      "execution_count": 15,
      "outputs": [
        {
          "output_type": "stream",
          "name": "stdout",
          "text": [
            "WITH K=6\n",
            "\n",
            "\n",
            "[[128  29]\n",
            " [ 35  42]]\n",
            "\n",
            "\n",
            "Accuracy: 72.65%\n"
          ]
        }
      ]
    },
    {
      "cell_type": "code",
      "source": [
        "print('WITH K=7')\n",
        "print('\\n')\n",
        "print(confusion_matrix(y_test,pred))\n",
        "print('\\n')\n",
        "#print(classification_report(y_test,pred))\n",
        "\n",
        "from sklearn.metrics import accuracy_score\n",
        "score=accuracy_score(y_test,pred)\n",
        "print(f'Accuracy: {round(score*100,2)}%')"
      ],
      "metadata": {
        "colab": {
          "base_uri": "https://localhost:8080/"
        },
        "id": "L3MTg3LIyHjP",
        "outputId": "c6a533c7-491a-453d-b755-4070ee095bfc"
      },
      "execution_count": 16,
      "outputs": [
        {
          "output_type": "stream",
          "name": "stdout",
          "text": [
            "WITH K=7\n",
            "\n",
            "\n",
            "[[128  29]\n",
            " [ 35  42]]\n",
            "\n",
            "\n",
            "Accuracy: 72.65%\n"
          ]
        }
      ]
    }
  ]
}